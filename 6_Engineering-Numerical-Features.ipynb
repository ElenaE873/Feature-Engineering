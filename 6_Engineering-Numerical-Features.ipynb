{
 "cells": [
  {
   "cell_type": "markdown",
   "id": "816ba16d",
   "metadata": {},
   "source": [
    "Optimal to use for:\n",
    "- in order to prepare properly for modeling\n",
    "- reduce dimentionality of features for space\n",
    "- don't need multiple similar values that are close in distance to each other\n",
    "\n",
    "Aggregate statistics is one common way of feature engineering:\n",
    "- when you have a collection of features related to a single feature\n",
    "- examples:\n",
    "   - median, average"
   ]
  }
 ],
 "metadata": {
  "kernelspec": {
   "display_name": "Python 3 (ipykernel)",
   "language": "python",
   "name": "python3"
  },
  "language_info": {
   "codemirror_mode": {
    "name": "ipython",
    "version": 3
   },
   "file_extension": ".py",
   "mimetype": "text/x-python",
   "name": "python",
   "nbconvert_exporter": "python",
   "pygments_lexer": "ipython3",
   "version": "3.9.7"
  }
 },
 "nbformat": 4,
 "nbformat_minor": 5
}
