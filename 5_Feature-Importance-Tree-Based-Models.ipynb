{
 "cells": [
  {
   "cell_type": "markdown",
   "id": "2992b271",
   "metadata": {},
   "source": [
    "Tree-based models are able to measure the importance of features in the prediction by giving a particular weighted average to each feature."
   ]
  },
  {
   "cell_type": "markdown",
   "id": "2e5678d8",
   "metadata": {},
   "source": [
    "#### Visualizing the Feature Importance"
   ]
  },
  {
   "cell_type": "markdown",
   "id": "f0684bc1",
   "metadata": {},
   "source": [
    "note: *this a continuation of the ensembling information in the Supervised Learning REPO, notebook 9_9_Ensemble-Modeling with Random Forest Ensembling*"
   ]
  },
  {
   "cell_type": "code",
   "execution_count": null,
   "id": "17bb5ad1",
   "metadata": {},
   "outputs": [],
   "source": [
    "importa pandas as pd\n",
    "import matplotlib.pyplot as plt\n",
    "\n",
    "#creating a pandas series of feature importances from a Random Forest model\n",
    "importances_rf = pd.Series(rf.feature_importances_,\n",
    "                          index = X.columns)\n",
    "\n",
    "#sorting importances_rf\n",
    "sorted_importances_rf = importances_rf.sort_values()\n",
    "\n",
    "#make a horizontal bar plot\n",
    "sorted_importances_rf.plot(kind='barh',\n",
    "                          color='lightgreen'); plt.show"
   ]
  }
 ],
 "metadata": {
  "kernelspec": {
   "display_name": "Python 3 (ipykernel)",
   "language": "python",
   "name": "python3"
  },
  "language_info": {
   "codemirror_mode": {
    "name": "ipython",
    "version": 3
   },
   "file_extension": ".py",
   "mimetype": "text/x-python",
   "name": "python",
   "nbconvert_exporter": "python",
   "pygments_lexer": "ipython3",
   "version": "3.9.7"
  }
 },
 "nbformat": 4,
 "nbformat_minor": 5
}
