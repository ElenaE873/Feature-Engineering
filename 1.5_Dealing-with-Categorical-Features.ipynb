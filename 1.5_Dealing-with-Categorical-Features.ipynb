{
 "cells": [
  {
   "cell_type": "markdown",
   "id": "a593cc31",
   "metadata": {},
   "source": [
    "### One-Hot Encoding"
   ]
  },
  {
   "cell_type": "markdown",
   "id": "f0b5470b",
   "metadata": {},
   "source": [
    "- converts n_categories into n_features"
   ]
  },
  {
   "cell_type": "code",
   "execution_count": null,
   "id": "6fccd154",
   "metadata": {},
   "outputs": [],
   "source": [
    "pd.get_dummies(df, columns=[\"Country\"],\n",
    "              prefix = \"C\")"
   ]
  },
  {
   "cell_type": "markdown",
   "id": "d541e792",
   "metadata": {},
   "source": [
    "### Dummy Encoding"
   ]
  },
  {
   "cell_type": "markdown",
   "id": "f2c4b699",
   "metadata": {},
   "source": [
    "- Creates n-minus-1 features for n_categories, omitting the first category\n",
    "- the omitted category: is encoded by the absence of all others and its value represented by the intercept."
   ]
  },
  {
   "cell_type": "code",
   "execution_count": null,
   "id": "76a13ea9",
   "metadata": {},
   "outputs": [],
   "source": [
    "pd.get-dummies(df, columns=[\"Country\"],\n",
    "               drop_first=True,\n",
    "              prefix = \"C\")"
   ]
  },
  {
   "cell_type": "markdown",
   "id": "0e962055",
   "metadata": {},
   "source": [
    "Down-side when there are many categories to deal with:\n",
    "- enlarging the number of features exponentially\n",
    "\n",
    "You can limit the values by:\n",
    "- creating a mask of the values that occur less than n times.\n",
    "(ie. create columns ONLY for the most common values)"
   ]
  },
  {
   "cell_type": "code",
   "execution_count": null,
   "id": "5e93c3a6",
   "metadata": {},
   "outputs": [],
   "source": [
    "#defining the mask\n",
    "mask = df['Column'].isin(counts[counts < 5].index)"
   ]
  },
  {
   "cell_type": "markdown",
   "id": "a4d7d896",
   "metadata": {},
   "source": [
    "### Numerical Data"
   ]
  },
  {
   "cell_type": "markdown",
   "id": "b154a441",
   "metadata": {},
   "source": [
    "- Basicly anything that can be measured"
   ]
  },
  {
   "cell_type": "markdown",
   "id": "8ac57bf0",
   "metadata": {},
   "source": [
    "Some considerations when dealing with numeric data"
   ]
  },
  {
   "cell_type": "markdown",
   "id": "ca246d2a",
   "metadata": {},
   "source": [
    "#### Binarizing numeric variables"
   ]
  },
  {
   "cell_type": "code",
   "execution_count": null,
   "id": "ff276d83",
   "metadata": {},
   "outputs": [],
   "source": [
    "#meaning creating a new column criteria based on a previous columsn \n",
    "#for 1s and 0s\n",
    "\n",
    "df['NewColumn'] = 0\n",
    "\n",
    "df.loc[df['Column1'] > 0,\n",
    "      'NewColumn'] = 1"
   ]
  }
 ],
 "metadata": {
  "kernelspec": {
   "display_name": "Python 3 (ipykernel)",
   "language": "python",
   "name": "python3"
  },
  "language_info": {
   "codemirror_mode": {
    "name": "ipython",
    "version": 3
   },
   "file_extension": ".py",
   "mimetype": "text/x-python",
   "name": "python",
   "nbconvert_exporter": "python",
   "pygments_lexer": "ipython3",
   "version": "3.9.7"
  }
 },
 "nbformat": 4,
 "nbformat_minor": 5
}
