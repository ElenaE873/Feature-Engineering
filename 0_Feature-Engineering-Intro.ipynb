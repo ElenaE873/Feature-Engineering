{
 "cells": [
  {
   "cell_type": "markdown",
   "id": "07dbdac8",
   "metadata": {},
   "source": [
    "### Feature Engineering"
   ]
  },
  {
   "cell_type": "markdown",
   "id": "58abe046",
   "metadata": {},
   "source": [
    "- creation of new features based on existing features\n",
    "- insight into relationship between features\n",
    "- will require some combination of extrac and expand on the existing dataset\n",
    "- also highly dependent on the dataset being worked on"
   ]
  },
  {
   "cell_type": "code",
   "execution_count": null,
   "id": "e0481079",
   "metadata": {},
   "outputs": [],
   "source": [
    "columns = [\"col1\", \"col2\", \"col3\"]\n",
    "\n",
    "df[\"mean\"] = df.apply(lambda row: row[columns].mean(),\n",
    "                     axis=1)\n",
    "print(df)"
   ]
  },
  {
   "cell_type": "code",
   "execution_count": null,
   "id": "30f2bf16",
   "metadata": {},
   "outputs": [],
   "source": [
    "#converting a date into a month\n",
    "df[\"date_converted\"] = pd.to_datetime(df[\"date\"])\n",
    "\n",
    "df[\"month\"] = df[\"date_converted\"].apply(lambda row: row.month)"
   ]
  }
 ],
 "metadata": {
  "kernelspec": {
   "display_name": "Python 3 (ipykernel)",
   "language": "python",
   "name": "python3"
  },
  "language_info": {
   "codemirror_mode": {
    "name": "ipython",
    "version": 3
   },
   "file_extension": ".py",
   "mimetype": "text/x-python",
   "name": "python",
   "nbconvert_exporter": "python",
   "pygments_lexer": "ipython3",
   "version": "3.9.7"
  }
 },
 "nbformat": 4,
 "nbformat_minor": 5
}
