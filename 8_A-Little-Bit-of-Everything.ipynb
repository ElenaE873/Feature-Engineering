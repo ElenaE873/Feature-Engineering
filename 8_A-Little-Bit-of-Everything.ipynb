{
 "cells": [
  {
   "cell_type": "markdown",
   "id": "019b0295",
   "metadata": {},
   "source": [
    "#### A couple of reminders:\n",
    "- most ML algorithms work with tabular data\n",
    "- features are the data stored in columns\n",
    "- most ML algorithms also require data input to be represented as a **vector or a matrix**.  \n",
    "- many ML algorithms also assume the data is distributed normally"
   ]
  },
  {
   "cell_type": "markdown",
   "id": "8efbde59",
   "metadata": {},
   "source": [
    "#### May deal with a range of data types"
   ]
  },
  {
   "cell_type": "markdown",
   "id": "f3fc3f12",
   "metadata": {},
   "source": [
    "- Continuous: integers (whole numbers) or floats (decimals)\n",
    "- Categorical: types/sets of values/categories\n",
    "- Ordinal: ranked values\n",
    "- Boolean: True or False\n",
    "- Datetime: dates/times"
   ]
  },
  {
   "cell_type": "markdown",
   "id": "ef7dfdee",
   "metadata": {},
   "source": [
    "#### Messy and Missing Values"
   ]
  },
  {
   "cell_type": "markdown",
   "id": "6bdfdd42",
   "metadata": {},
   "source": [
    "How gaps occur:\n",
    "- data not being collected properly\n",
    "- collection and management errors\n",
    "- data intentionally being omitted"
   ]
  },
  {
   "cell_type": "markdown",
   "id": "b6567bb7",
   "metadata": {},
   "source": [
    "Why do we care?\n",
    "- Some models cannot work with missing (ie. Nulls/NaN) data\n",
    "- Missing data may be a sign of a wider data issue\n",
    "- Missing data may be a way to inform additional features \n",
    "    - maybe creating a column with the absence of data recorded"
   ]
  },
  {
   "cell_type": "code",
   "execution_count": null,
   "id": "33d2abbc",
   "metadata": {},
   "outputs": [],
   "source": [
    "#replacing missing values in a specific column\n",
    "#with a given string\n",
    "df['Column'].fillna(value='None Given', inplace=True)\n",
    "\n",
    "#record where the values are not missing\n",
    "df['NewColumn'] = df['ExistingColumn'].notnull()\n",
    "\n",
    "#drop a specific column\n",
    "df.drop(columns=['Column_Name'])"
   ]
  },
  {
   "cell_type": "markdown",
   "id": "30dcb80b",
   "metadata": {},
   "source": [
    "#### Issues with Removing ALL rows with Missing Values"
   ]
  },
  {
   "cell_type": "markdown",
   "id": "adc1e3ef",
   "metadata": {},
   "source": [
    "- If you were building a predictive model, when you remove all cases that had missing values and **trained the model** as such, when you would receive new data **with** missing values in the test set, you loose the ability to predict well on these rows, because they were not considered in training the model.  Your model would be biasedly trained toward predicting on rows with no missing columns."
   ]
  },
  {
   "cell_type": "markdown",
   "id": "1d0a4e0a",
   "metadata": {},
   "source": [
    "The best options:\n",
    "\n",
    "Categorical Columns - \n",
    "- Replace missing values with the most common/occuring value \n",
    "\n",
    "Numeric Columns - \n",
    "- Replace missing values with a suitable value by measures of central tendency (mean, or median)"
   ]
  },
  {
   "cell_type": "markdown",
   "id": "d02eb36e",
   "metadata": {},
   "source": [
    "**Values calculated on the train set should be applied to both DataFrames, the train and test**"
   ]
  },
  {
   "cell_type": "markdown",
   "id": "a18adaf9",
   "metadata": {},
   "source": [
    "### Dealing with Bad/Messy Data"
   ]
  },
  {
   "cell_type": "code",
   "execution_count": null,
   "id": "61f515fe",
   "metadata": {},
   "outputs": [],
   "source": [
    "#dealign with bad characters\n",
    "#replace comma with space\n",
    "df[\"newcolumn\"] = df[\"oldcolumn\"].str.replace(',','')\n",
    "\n",
    "#if once you replace a bad character and still get an error when\n",
    "#trying to convert the right datatype, consider other things you still\n",
    "#need to clean, so device checkpoints to still move through it"
   ]
  },
  {
   "cell_type": "markdown",
   "id": "291842aa",
   "metadata": {},
   "source": [
    "### The importance of Distribution of Data"
   ]
  },
  {
   "cell_type": "code",
   "execution_count": null,
   "id": "12ba125e",
   "metadata": {},
   "outputs": [],
   "source": [
    "#Approach 1 - \n",
    "#observing the distribution using histogram\n",
    "import matplotlib as plt\n",
    "df.hist()\n",
    "plt.show\n",
    "\n",
    "#Approach 2 - \n",
    "#box plots to know where the chuck of the data sits\n",
    "#show level of outliers and if there are any unwanted outliers\n",
    "df[['column']].boxplot()\n",
    "plt.show()"
   ]
  },
  {
   "attachments": {
    "image.png": {
     "image/png": "[encoded data removed]"
    }
   },
   "cell_type": "markdown",
   "id": "14c31028",
   "metadata": {},
   "source": [
    "![image.png](attachment:image.png)"
   ]
  },
  {
   "cell_type": "code",
   "execution_count": null,
   "id": "8367473e",
   "metadata": {},
   "outputs": [],
   "source": [
    "#Approach 3 - \n",
    "#pairing distributions\n",
    "import seaborn as sns\n",
    "sns.pairplot(df)\n",
    "\n",
    "#Extra\n",
    "#using the describe method for details on your distributions\n",
    "df.describe()"
   ]
  },
  {
   "cell_type": "markdown",
   "id": "c1657985",
   "metadata": {},
   "source": [
    "### Scaling and Transformations"
   ]
  },
  {
   "cell_type": "markdown",
   "id": "5009c29f",
   "metadata": {},
   "source": [
    "- Fit and transform the training data\n",
    "- BUT ONLY transform the test data"
   ]
  },
  {
   "cell_type": "markdown",
   "id": "245efa96",
   "metadata": {},
   "source": [
    "Most common\n",
    "- Standardization and MinMaxScaler\n",
    "\n",
    "Min-Max Scaling\n",
    "- when the data is scaled linearly between a min and a max value, with 0 to the minimum value and 1 to the maximum value.\n",
    "- this is essentially: **founding an outer boundary and squeezing everything within**"
   ]
  },
  {
   "cell_type": "code",
   "execution_count": null,
   "id": "4eee4275",
   "metadata": {},
   "outputs": [],
   "source": [
    "from sklearn.preprocessing import MinMaxScaler\n",
    "\n",
    "scaler = MinMaxScaler()\n",
    "scaler.fit(df[['Age']])\n",
    "\n",
    "df['normalized_col'] = scaler.transform(df[['Age']])"
   ]
  },
  {
   "cell_type": "markdown",
   "id": "c0b6b35c",
   "metadata": {},
   "source": [
    "Standardization (Scaling)\n",
    "- finds the mean of the data, and centers the distribution around it"
   ]
  },
  {
   "cell_type": "code",
   "execution_count": null,
   "id": "faa981ab",
   "metadata": {},
   "outputs": [],
   "source": [
    "from sklearn.preprocessing import StandardScaler\n",
    "\n",
    "scaler = StandardScaler()\n",
    "scaler.fit(df[['Column']])\n",
    "\n",
    "df['standardized_col'] = scaler\\.transform(df[['Column']])"
   ]
  },
  {
   "cell_type": "markdown",
   "id": "eff069ff",
   "metadata": {},
   "source": [
    "Log Transformation\n",
    "- can be used to make highly skewed distributions less skewed"
   ]
  },
  {
   "cell_type": "code",
   "execution_count": null,
   "id": "85ae9ace",
   "metadata": {},
   "outputs": [],
   "source": [
    "from sklearn.preprocessing import PowerTransformer\n",
    "\n",
    "log = PowerTransformer()\n",
    "\n",
    "log.fit(df[['Column']])\n",
    "\n",
    "df['log_column'] = log.transform(df[['Column']])"
   ]
  },
  {
   "cell_type": "markdown",
   "id": "4497ed3d",
   "metadata": {},
   "source": [
    "### Removing Outliers"
   ]
  },
  {
   "cell_type": "markdown",
   "id": "00aa198d",
   "metadata": {},
   "source": [
    "- data points that exist far away from the majority of the data\n",
    "- can be due to:\n",
    "    - incorrect data recording\n",
    "    - genuine rare occurences\n",
    "- these values could negatively impact the modeling\n",
    "    - such as: causing scaled data to be squashed to the lower bound"
   ]
  },
  {
   "cell_type": "markdown",
   "id": "12dbfb83",
   "metadata": {},
   "source": [
    "Remove a certain percentage of larges and/or smallest values in data:\n",
    "- could remove the top 5% (using the 95% quantile and removing everything above it), a good approach when it is reasoned that the highest values in a dataset should be removed.\n",
    "\n",
    "Eliminate all data greater than 3 standard deviations from the mean as you expect those points to be outliers. ; benefit in genuinely removing extremely values for some reason deemed applicable or necessary."
   ]
  },
  {
   "cell_type": "code",
   "execution_count": null,
   "id": "3f2ae3f9",
   "metadata": {},
   "outputs": [],
   "source": [
    "#standard deviation detection in Python\n",
    "mean = df['col_name'].mean()\n",
    "std = df['col_name'].std()"
   ]
  },
  {
   "cell_type": "code",
   "execution_count": null,
   "id": "32dfe3cb",
   "metadata": {},
   "outputs": [],
   "source": [
    "lower, upper = mean - cut_off, mean + cut_off\n",
    "\n",
    "#adding bounds as a mask to the dataframe\n",
    "new_df = df[(df['col_name'] < upper) & (df['col_name'] > lower)]"
   ]
  }
 ],
 "metadata": {
  "kernelspec": {
   "display_name": "Python 3 (ipykernel)",
   "language": "python",
   "name": "python3"
  },
  "language_info": {
   "codemirror_mode": {
    "name": "ipython",
    "version": 3
   },
   "file_extension": ".py",
   "mimetype": "text/x-python",
   "name": "python",
   "nbconvert_exporter": "python",
   "pygments_lexer": "ipython3",
   "version": "3.9.7"
  }
 },
 "nbformat": 4,
 "nbformat_minor": 5
}
