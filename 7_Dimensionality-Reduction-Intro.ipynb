{
 "cells": [
  {
   "cell_type": "markdown",
   "id": "e9a85f04",
   "metadata": {},
   "source": [
    "### Dimensionality Reduction and PCA"
   ]
  },
  {
   "cell_type": "markdown",
   "id": "6ed5d744",
   "metadata": {},
   "source": [
    "A form of **unsupervised learning** that transforms you data to shrink the number of features"
   ]
  },
  {
   "cell_type": "markdown",
   "id": "3191e05e",
   "metadata": {},
   "source": [
    "### PCA"
   ]
  },
  {
   "cell_type": "code",
   "execution_count": null,
   "id": "2191c78f",
   "metadata": {},
   "outputs": [],
   "source": [
    "from sklearn.decomposition import PCA\n",
    "\n",
    "pca = PCA()\n",
    "df_pca = pca.fit_transform(df)\n",
    "\n",
    "print(df_pca)"
   ]
  },
  {
   "cell_type": "code",
   "execution_count": null,
   "id": "a7e051ae",
   "metadata": {},
   "outputs": [],
   "source": [
    "#checking the explained variance by each component\n",
    "print(pca.explained_variance_ratio)"
   ]
  }
 ],
 "metadata": {
  "kernelspec": {
   "display_name": "Python 3 (ipykernel)",
   "language": "python",
   "name": "python3"
  },
  "language_info": {
   "codemirror_mode": {
    "name": "ipython",
    "version": 3
   },
   "file_extension": ".py",
   "mimetype": "text/x-python",
   "name": "python",
   "nbconvert_exporter": "python",
   "pygments_lexer": "ipython3",
   "version": "3.9.7"
  }
 },
 "nbformat": 4,
 "nbformat_minor": 5
}
